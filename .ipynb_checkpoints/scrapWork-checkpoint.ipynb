{
 "cells": [
  {
   "cell_type": "code",
   "execution_count": 26,
   "metadata": {},
   "outputs": [],
   "source": [
    "from requests import get\n",
    "from requests.exceptions import RequestException\n",
    "from contextlib import closing\n",
    "from bs4 import BeautifulSoup\n",
    "import urllib2\n",
    "from StringIO import StringIO"
   ]
  },
  {
   "cell_type": "code",
   "execution_count": 31,
   "metadata": {},
   "outputs": [],
   "source": [
    "test_url='https://www.fragrantica.com/perfume/Chanel/Coco-Mademoiselle-611.html'"
   ]
  },
  {
   "cell_type": "markdown",
   "metadata": {},
   "source": [
    "Most popular fragrance on Sephora.com"
   ]
  },
  {
   "cell_type": "code",
   "execution_count": 32,
   "metadata": {},
   "outputs": [],
   "source": [
    "hdr = {'User-Agent': 'Mozilla/5.0'}\n",
    "req = urllib2.Request(test_url,headers=hdr)\n",
    "page = urllib2.urlopen(req)\n",
    "soup = BeautifulSoup(page)"
   ]
  },
  {
   "cell_type": "code",
   "execution_count": 33,
   "metadata": {},
   "outputs": [
    {
     "name": "stdout",
     "output_type": "stream",
     "text": [
      "Coco Mademoiselle Chanel perfume - a fragrance for women 2001\n"
     ]
    }
   ],
   "source": [
    "print soup.title.string"
   ]
  },
  {
   "cell_type": "code",
   "execution_count": 58,
   "metadata": {},
   "outputs": [
    {
     "data": {
      "text/plain": [
       "<span itemprop=\"ratingValue\">4.09</span>"
      ]
     },
     "execution_count": 58,
     "metadata": {},
     "output_type": "execute_result"
    }
   ],
   "source": [
    "soup.find('span',attrs={'itemprop':'ratingValue'})"
   ]
  },
  {
   "cell_type": "markdown",
   "metadata": {},
   "source": [
    "Average rating (out of 5)"
   ]
  },
  {
   "cell_type": "code",
   "execution_count": 44,
   "metadata": {},
   "outputs": [
    {
     "data": {
      "text/plain": [
       "u'9851'"
      ]
     },
     "execution_count": 44,
     "metadata": {},
     "output_type": "execute_result"
    }
   ],
   "source": [
    "soup.find('span',attrs={'itemprop':'ratingCount'}).text"
   ]
  },
  {
   "cell_type": "markdown",
   "metadata": {},
   "source": [
    "Number of ratings"
   ]
  },
  {
   "cell_type": "code",
   "execution_count": 49,
   "metadata": {},
   "outputs": [
    {
     "data": {
      "text/plain": [
       "<meta content=\"Coco Mademoiselle by Chanel is a Oriental Floral fragrance for women. Coco Mademoiselle was launched in 2001. The nose behind this fragrance is Jacques ...\" name=\"description\"/>"
      ]
     },
     "execution_count": 49,
     "metadata": {},
     "output_type": "execute_result"
    }
   ],
   "source": [
    "soup.find('meta',attrs={'name':'description'})"
   ]
  },
  {
   "cell_type": "code",
   "execution_count": 50,
   "metadata": {},
   "outputs": [
    {
     "data": {
      "text/plain": [
       "<meta content=\"Coco Mademoiselle, Chanel, perfume review, fragrance recommendations\" name=\"keywords\"/>"
      ]
     },
     "execution_count": 50,
     "metadata": {},
     "output_type": "execute_result"
    }
   ],
   "source": [
    "soup.find('meta',attrs={'name':'keywords'})"
   ]
  },
  {
   "cell_type": "code",
   "execution_count": 65,
   "metadata": {},
   "outputs": [
    {
     "data": {
      "text/plain": [
       "[<span class=\"rtgNote\" id=\"note80\" title=\"80\"><img alt=\"Orange\" class=\"btHover\" height=\"40\" rel=\"0\" src=\"https://fimgs.net/mdimg/sastojci/m.80.jpg\" title=\"Orange\" width=\"40\"/></span>,\n",
       " <span class=\"rtgNote\" id=\"note82\" title=\"82\"><img alt=\"Mandarin Orange\" class=\"btHover\" height=\"40\" rel=\"0\" src=\"https://fimgs.net/mdimg/sastojci/m.82.jpg\" title=\"Mandarin Orange\" width=\"40\"/></span>,\n",
       " <span class=\"rtgNote\" id=\"note16\" title=\"16\"><img alt=\"Orange Blossom\" class=\"btHover\" height=\"40\" rel=\"0\" src=\"https://fimgs.net/mdimg/sastojci/m.16.jpg\" title=\"Orange Blossom\" width=\"40\"/></span>,\n",
       " <span class=\"rtgNote\" id=\"note75\" title=\"75\"><img alt=\"Bergamot\" class=\"btHover\" height=\"40\" rel=\"0\" src=\"https://fimgs.net/mdimg/sastojci/m.75.jpg\" title=\"Bergamot\" width=\"40\"/></span>,\n",
       " <span class=\"rtgNote\" id=\"note167\" title=\"167\"><img alt=\"Mimosa\" class=\"btHover\" height=\"40\" rel=\"0\" src=\"https://fimgs.net/mdimg/sastojci/m.167.jpg\" title=\"Mimosa\" width=\"40\"/></span>,\n",
       " <span class=\"rtgNote\" id=\"note14\" title=\"14\"><img alt=\"Jasmine\" class=\"btHover\" height=\"40\" rel=\"0\" src=\"https://fimgs.net/mdimg/sastojci/m.14.jpg\" title=\"Jasmine\" width=\"40\"/></span>,\n",
       " <span class=\"rtgNote\" id=\"note105\" title=\"105\"><img alt=\"Turkish Rose\" class=\"btHover\" height=\"40\" rel=\"0\" src=\"https://fimgs.net/mdimg/sastojci/m.105.jpg\" title=\"Turkish Rose\" width=\"40\"/></span>,\n",
       " <span class=\"rtgNote\" id=\"note24\" title=\"24\"><img alt=\"Ylang-Ylang\" class=\"btHover\" height=\"40\" rel=\"0\" src=\"https://fimgs.net/mdimg/sastojci/m.24.jpg\" title=\"Ylang-Ylang\" width=\"40\"/></span>,\n",
       " <span class=\"rtgNote\" id=\"note73\" title=\"73\"><img alt=\"Tonka Bean\" class=\"btHover\" height=\"40\" rel=\"0\" src=\"https://fimgs.net/mdimg/sastojci/m.73.jpg\" title=\"Tonka Bean\" width=\"40\"/></span>,\n",
       " <span class=\"rtgNote\" id=\"note34\" title=\"34\"><img alt=\"Patchouli\" class=\"btHover\" height=\"40\" rel=\"0\" src=\"https://fimgs.net/mdimg/sastojci/m.34.jpg\" title=\"Patchouli\" width=\"40\"/></span>,\n",
       " <span class=\"rtgNote\" id=\"note37\" title=\"37\"><img alt=\"Opoponax\" class=\"btHover\" height=\"40\" rel=\"0\" src=\"https://fimgs.net/mdimg/sastojci/m.37.jpg\" title=\"Opoponax\" width=\"40\"/></span>,\n",
       " <span class=\"rtgNote\" id=\"note74\" title=\"74\"><img alt=\"Vanilla\" class=\"btHover\" height=\"40\" rel=\"0\" src=\"https://fimgs.net/mdimg/sastojci/m.74.jpg\" title=\"Vanilla\" width=\"40\"/></span>,\n",
       " <span class=\"rtgNote\" id=\"note2\" title=\"2\"><img alt=\"Vetiver\" class=\"btHover\" height=\"40\" rel=\"0\" src=\"https://fimgs.net/mdimg/sastojci/m.2.jpg\" title=\"Vetiver\" width=\"40\"/></span>,\n",
       " <span class=\"rtgNote\" id=\"note4\" title=\"4\"><img alt=\"White Musk\" class=\"btHover\" height=\"40\" rel=\"0\" src=\"https://fimgs.net/mdimg/sastojci/m.4.jpg\" title=\"White Musk\" width=\"40\"/></span>]"
      ]
     },
     "execution_count": 65,
     "metadata": {},
     "output_type": "execute_result"
    }
   ],
   "source": [
    "soup.findAll('span',attrs={'class':'rtgNote'})"
   ]
  },
  {
   "cell_type": "code",
   "execution_count": 68,
   "metadata": {},
   "outputs": [
    {
     "data": {
      "text/plain": [
       "<p><b>Top Notes</b><br/> <span class=\"rtgNote\" id=\"note80\" title=\"80\"><img alt=\"Orange\" class=\"btHover\" height=\"40\" rel=\"0\" src=\"https://fimgs.net/mdimg/sastojci/m.80.jpg\" title=\"Orange\" width=\"40\"/></span>\\n<span class=\"rtgNote\" id=\"note82\" title=\"82\"><img alt=\"Mandarin Orange\" class=\"btHover\" height=\"40\" rel=\"0\" src=\"https://fimgs.net/mdimg/sastojci/m.82.jpg\" title=\"Mandarin Orange\" width=\"40\"/></span>\\n<span class=\"rtgNote\" id=\"note16\" title=\"16\"><img alt=\"Orange Blossom\" class=\"btHover\" height=\"40\" rel=\"0\" src=\"https://fimgs.net/mdimg/sastojci/m.16.jpg\" title=\"Orange Blossom\" width=\"40\"/></span>\\n<span class=\"rtgNote\" id=\"note75\" title=\"75\"><img alt=\"Bergamot\" class=\"btHover\" height=\"40\" rel=\"0\" src=\"https://fimgs.net/mdimg/sastojci/m.75.jpg\" title=\"Bergamot\" width=\"40\"/></span>\\n</p>"
      ]
     },
     "execution_count": 68,
     "metadata": {},
     "output_type": "execute_result"
    }
   ],
   "source": [
    "soup.find('h3').nextSibling"
   ]
  },
  {
   "cell_type": "code",
   "execution_count": 69,
   "metadata": {},
   "outputs": [
    {
     "data": {
      "text/plain": [
       "<p><b>Middle Notes</b><br/> <span class=\"rtgNote\" id=\"note167\" title=\"167\"><img alt=\"Mimosa\" class=\"btHover\" height=\"40\" rel=\"0\" src=\"https://fimgs.net/mdimg/sastojci/m.167.jpg\" title=\"Mimosa\" width=\"40\"/></span>\\n<span class=\"rtgNote\" id=\"note14\" title=\"14\"><img alt=\"Jasmine\" class=\"btHover\" height=\"40\" rel=\"0\" src=\"https://fimgs.net/mdimg/sastojci/m.14.jpg\" title=\"Jasmine\" width=\"40\"/></span>\\n<span class=\"rtgNote\" id=\"note105\" title=\"105\"><img alt=\"Turkish Rose\" class=\"btHover\" height=\"40\" rel=\"0\" src=\"https://fimgs.net/mdimg/sastojci/m.105.jpg\" title=\"Turkish Rose\" width=\"40\"/></span>\\n<span class=\"rtgNote\" id=\"note24\" title=\"24\"><img alt=\"Ylang-Ylang\" class=\"btHover\" height=\"40\" rel=\"0\" src=\"https://fimgs.net/mdimg/sastojci/m.24.jpg\" title=\"Ylang-Ylang\" width=\"40\"/></span>\\n</p>"
      ]
     },
     "execution_count": 69,
     "metadata": {},
     "output_type": "execute_result"
    }
   ],
   "source": [
    "soup.find('h3').nextSibling.nextSibling"
   ]
  },
  {
   "cell_type": "code",
   "execution_count": 70,
   "metadata": {},
   "outputs": [
    {
     "data": {
      "text/plain": [
       "<p><b>Base Notes</b><br/> <span class=\"rtgNote\" id=\"note73\" title=\"73\"><img alt=\"Tonka Bean\" class=\"btHover\" height=\"40\" rel=\"0\" src=\"https://fimgs.net/mdimg/sastojci/m.73.jpg\" title=\"Tonka Bean\" width=\"40\"/></span>\\n<span class=\"rtgNote\" id=\"note34\" title=\"34\"><img alt=\"Patchouli\" class=\"btHover\" height=\"40\" rel=\"0\" src=\"https://fimgs.net/mdimg/sastojci/m.34.jpg\" title=\"Patchouli\" width=\"40\"/></span>\\n<span class=\"rtgNote\" id=\"note37\" title=\"37\"><img alt=\"Opoponax\" class=\"btHover\" height=\"40\" rel=\"0\" src=\"https://fimgs.net/mdimg/sastojci/m.37.jpg\" title=\"Opoponax\" width=\"40\"/></span>\\n<span class=\"rtgNote\" id=\"note74\" title=\"74\"><img alt=\"Vanilla\" class=\"btHover\" height=\"40\" rel=\"0\" src=\"https://fimgs.net/mdimg/sastojci/m.74.jpg\" title=\"Vanilla\" width=\"40\"/></span>\\n<span class=\"rtgNote\" id=\"note2\" title=\"2\"><img alt=\"Vetiver\" class=\"btHover\" height=\"40\" rel=\"0\" src=\"https://fimgs.net/mdimg/sastojci/m.2.jpg\" title=\"Vetiver\" width=\"40\"/></span>\\n<span class=\"rtgNote\" id=\"note4\" title=\"4\"><img alt=\"White Musk\" class=\"btHover\" height=\"40\" rel=\"0\" src=\"https://fimgs.net/mdimg/sastojci/m.4.jpg\" title=\"White Musk\" width=\"40\"/></span>\\n</p>"
      ]
     },
     "execution_count": 70,
     "metadata": {},
     "output_type": "execute_result"
    }
   ],
   "source": [
    "soup.find('h3').nextSibling.nextSibling.nextSibling"
   ]
  },
  {
   "cell_type": "code",
   "execution_count": 73,
   "metadata": {},
   "outputs": [
    {
     "data": {
      "text/plain": [
       "u'Base Notes \\n\\n\\n\\n\\n\\n'"
      ]
     },
     "execution_count": 73,
     "metadata": {},
     "output_type": "execute_result"
    }
   ],
   "source": [
    "soup.find('h3').nextSibling.nextSibling.nextSibling.text"
   ]
  },
  {
   "cell_type": "code",
   "execution_count": null,
   "metadata": {},
   "outputs": [],
   "source": []
  }
 ],
 "metadata": {
  "kernelspec": {
   "display_name": "Python 2",
   "language": "python",
   "name": "python2"
  },
  "language_info": {
   "codemirror_mode": {
    "name": "ipython",
    "version": 2
   },
   "file_extension": ".py",
   "mimetype": "text/x-python",
   "name": "python",
   "nbconvert_exporter": "python",
   "pygments_lexer": "ipython2",
   "version": "2.7.15"
  }
 },
 "nbformat": 4,
 "nbformat_minor": 2
}
