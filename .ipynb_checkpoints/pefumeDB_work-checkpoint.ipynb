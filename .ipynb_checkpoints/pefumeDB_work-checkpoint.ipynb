{
 "cells": [
  {
   "cell_type": "code",
   "execution_count": 1,
   "metadata": {},
   "outputs": [],
   "source": [
    "from bs4 import BeautifulSoup\n",
    "import urllib2\n",
    "import re\n",
    "import copy\n",
    "import sched, time\n",
    "import threading"
   ]
  },
  {
   "cell_type": "code",
   "execution_count": 2,
   "metadata": {},
   "outputs": [],
   "source": [
    "test_url = 'https://www.bpal.org/topic/94775-materialisation/'"
   ]
  },
  {
   "cell_type": "code",
   "execution_count": 3,
   "metadata": {},
   "outputs": [],
   "source": [
    "hdr = {'User-Agent': 'Mozilla/5.0'}\n",
    "req = urllib2.Request(test_url,headers=hdr)\n",
    "page = urllib2.urlopen(req)\n",
    "soup = BeautifulSoup(page)"
   ]
  },
  {
   "cell_type": "code",
   "execution_count": 4,
   "metadata": {},
   "outputs": [
    {
     "data": {
      "text/plain": [
       "u'Materialisation'"
      ]
     },
     "execution_count": 4,
     "metadata": {},
     "output_type": "execute_result"
    }
   ],
   "source": [
    "soup.find('meta',attrs={'property':'og:title'})['content']"
   ]
  },
  {
   "cell_type": "markdown",
   "metadata": {},
   "source": [
    "Perfume name, can call attributes of resulting find"
   ]
  },
  {
   "cell_type": "code",
   "execution_count": 5,
   "metadata": {},
   "outputs": [
    {
     "data": {
      "text/plain": [
       "u'Yule 2018, An Evening with the Spirits'"
      ]
     },
     "execution_count": 5,
     "metadata": {},
     "output_type": "execute_result"
    }
   ],
   "source": [
    "soup.find('meta',attrs={'name':'keywords'})['content']"
   ]
  },
  {
   "cell_type": "code",
   "execution_count": 6,
   "metadata": {},
   "outputs": [
    {
     "data": {
      "text/plain": [
       "u'Materialisation - Yules - BPAL Madness!'"
      ]
     },
     "execution_count": 6,
     "metadata": {},
     "output_type": "execute_result"
    }
   ],
   "source": [
    "soup.title.text"
   ]
  },
  {
   "cell_type": "code",
   "execution_count": 7,
   "metadata": {},
   "outputs": [
    {
     "name": "stdout",
     "output_type": "stream",
     "text": [
      "[u'Materialisation -', u'Yules -']\n"
     ]
    }
   ],
   "source": [
    "print(re.findall(r'\\w+ -',soup.title.text))"
   ]
  },
  {
   "cell_type": "code",
   "execution_count": 18,
   "metadata": {},
   "outputs": [],
   "source": [
    "test_str = 'Red Devil - Bewitching Brews - BPAL Madness!'\n",
    "test_array = re.findall(r'.+? -',test_str)"
   ]
  },
  {
   "cell_type": "code",
   "execution_count": 21,
   "metadata": {},
   "outputs": [
    {
     "data": {
      "text/plain": [
       "'Bewitching Brews'"
      ]
     },
     "execution_count": 21,
     "metadata": {},
     "output_type": "execute_result"
    }
   ],
   "source": [
    "test_array[1][1:-2]"
   ]
  },
  {
   "cell_type": "code",
   "execution_count": 9,
   "metadata": {},
   "outputs": [
    {
     "data": {
      "text/plain": [
       "u'A quiet perfume that emerges slowly out of nonbeing: white musk, ambergris accord, coconut, almond milk, and honeysuckle.'"
      ]
     },
     "execution_count": 9,
     "metadata": {},
     "output_type": "execute_result"
    }
   ],
   "source": [
    "soup.select('div[style*=\"background-color:transparent\"]')[0].find('strong').text"
   ]
  },
  {
   "cell_type": "code",
   "execution_count": 10,
   "metadata": {},
   "outputs": [],
   "source": [
    "test_url = 'https://www.bpal.org/topic/36-snow-white/'\n",
    "req = urllib2.Request(test_url,headers=hdr)\n",
    "page = urllib2.urlopen(req)\n",
    "soup = BeautifulSoup(page)"
   ]
  },
  {
   "cell_type": "code",
   "execution_count": 11,
   "metadata": {},
   "outputs": [
    {
     "ename": "AttributeError",
     "evalue": "'NoneType' object has no attribute 'text'",
     "output_type": "error",
     "traceback": [
      "\u001b[0;31m---------------------------------------------------------------------------\u001b[0m",
      "\u001b[0;31mAttributeError\u001b[0m                            Traceback (most recent call last)",
      "\u001b[0;32m<ipython-input-11-941469f6254a>\u001b[0m in \u001b[0;36m<module>\u001b[0;34m()\u001b[0m\n\u001b[0;32m----> 1\u001b[0;31m \u001b[0msoup\u001b[0m\u001b[0;34m.\u001b[0m\u001b[0mselect\u001b[0m\u001b[0;34m(\u001b[0m\u001b[0;34m'div[style*=\"background-color:transparent\"]'\u001b[0m\u001b[0;34m)\u001b[0m\u001b[0;34m[\u001b[0m\u001b[0;36m0\u001b[0m\u001b[0;34m]\u001b[0m\u001b[0;34m.\u001b[0m\u001b[0mfind\u001b[0m\u001b[0;34m(\u001b[0m\u001b[0;34m'strong'\u001b[0m\u001b[0;34m)\u001b[0m\u001b[0;34m.\u001b[0m\u001b[0mtext\u001b[0m\u001b[0;34m\u001b[0m\u001b[0m\n\u001b[0m",
      "\u001b[0;31mAttributeError\u001b[0m: 'NoneType' object has no attribute 'text'"
     ]
    }
   ],
   "source": [
    "soup.select('div[style*=\"background-color:transparent\"]')[0].find('strong').text"
   ]
  },
  {
   "cell_type": "code",
   "execution_count": 12,
   "metadata": {},
   "outputs": [
    {
     "data": {
      "text/plain": [
       "u'A chilly, bright perfume: flurries of virgin snow, crisp winter wind and the faintest breath of night-blooming flowers.'"
      ]
     },
     "execution_count": 12,
     "metadata": {},
     "output_type": "execute_result"
    }
   ],
   "source": [
    "soup.select('div[style*=\"background-color:transparent\"]')[0].text"
   ]
  },
  {
   "cell_type": "code",
   "execution_count": 13,
   "metadata": {},
   "outputs": [
    {
     "data": {
      "text/plain": [
       "[u': flurries of virgin snow, crisp winter wind and the faintest breath of night-blooming flowers.']"
      ]
     },
     "execution_count": 13,
     "metadata": {},
     "output_type": "execute_result"
    }
   ],
   "source": [
    "test_str = soup.select('div[style*=\"background-color:transparent\"]')[0].text\n",
    "re.findall(r':.+',test_str)"
   ]
  },
  {
   "cell_type": "code",
   "execution_count": 14,
   "metadata": {},
   "outputs": [],
   "source": [
    "test_url = 'https://www.bpal.org/forum/3-reviews/'\n",
    "req = urllib2.Request(test_url,headers=hdr)\n",
    "page = urllib2.urlopen(req)\n",
    "soup = BeautifulSoup(page)\n",
    "\n",
    "list_add = []\n",
    "\n",
    "for tmp in soup.findAll('a',attrs={'href':re.compile('^https://www.bpal.org/forum')}):\n",
    "    tlink = tmp.get('href')\n",
    "    if not tlink.startswith('https://www.bpal.org/forum/47-') and not tlink.startswith('https://www.bpal.org/forum/3-'):\n",
    "        list_add.append(tlink)\n"
   ]
  },
  {
   "cell_type": "code",
   "execution_count": 15,
   "metadata": {},
   "outputs": [
    {
     "data": {
      "text/plain": [
       "[u'https://www.bpal.org/forum/26-limited-editions/',\n",
       " u'https://www.bpal.org/forum/62-a-little-lunacy/',\n",
       " u'https://www.bpal.org/forum/140-lupercalia/',\n",
       " u'https://www.bpal.org/forum/141-halloweenie/',\n",
       " u'https://www.bpal.org/forum/210-bpal-anniversary/',\n",
       " u'https://www.bpal.org/forum/139-yules/',\n",
       " u'https://www.bpal.org/forum/211-liliths/',\n",
       " u'https://www.bpal.org/forum/179-single-note-accords/',\n",
       " u'https://www.bpal.org/forum/63-oblation/',\n",
       " u'https://www.bpal.org/forum/61-springtime-in-arkham/',\n",
       " u'https://www.bpal.org/forum/64-carnaval-noir/',\n",
       " u'https://www.bpal.org/forum/69-a-demon-in-my-view/',\n",
       " u'https://www.bpal.org/forum/73-maelstr%C3%B6m/',\n",
       " u'https://www.bpal.org/forum/206-gifts-with-donation-or-purchase/',\n",
       " u'https://www.bpal.org/forum/194-inspiration/',\n",
       " u'https://www.bpal.org/forum/158-alchemists-local-93/',\n",
       " u'https://www.bpal.org/forum/16-ars-amatoria/',\n",
       " u'https://www.bpal.org/forum/44-ars-draconis/',\n",
       " u'https://www.bpal.org/forum/13-ars-moriendi/',\n",
       " u'https://www.bpal.org/forum/12-bewitching-brews/',\n",
       " u'https://www.bpal.org/forum/17-diabolus/',\n",
       " u'https://www.bpal.org/forum/58-excolo/',\n",
       " u'https://www.bpal.org/forum/19-illyria/',\n",
       " u'https://www.bpal.org/forum/18-mad-tea-party/',\n",
       " u'https://www.bpal.org/forum/132-marchen/',\n",
       " u'https://www.bpal.org/forum/110-doc-constantine39s-pharmacopoeia/',\n",
       " u'https://www.bpal.org/forum/91-a-picnic-in-arkham/',\n",
       " u'https://www.bpal.org/forum/68-rappaccini39s-garden/',\n",
       " u'https://www.bpal.org/forum/174-rpg/',\n",
       " u'https://www.bpal.org/forum/15-sin-amp-salvation/',\n",
       " u'https://www.bpal.org/forum/57-somnium/',\n",
       " u'https://www.bpal.org/forum/109-phoenix-steamworks-amp-research-facility/',\n",
       " u'https://www.bpal.org/forum/20-wanderlust/',\n",
       " u'https://www.bpal.org/forum/207-221b-baker-street/',\n",
       " u'https://www.bpal.org/forum/60-panacea/',\n",
       " u'https://www.bpal.org/forum/89-the-salon/',\n",
       " u'https://www.bpal.org/forum/90-carnaval-diabolique/',\n",
       " u'https://www.bpal.org/forum/160-vampires-don39t-sleep-alone/',\n",
       " u'https://www.bpal.org/forum/156-boom33-studios/',\n",
       " u'https://www.bpal.org/forum/149-the-district/',\n",
       " u'https://www.bpal.org/forum/93-neil-gaiman/',\n",
       " u'https://www.bpal.org/forum/145-15-painted-cards-from-a-vampire-tarot/',\n",
       " u'https://www.bpal.org/forum/143-american-gods/',\n",
       " u'https://www.bpal.org/forum/144-anansi-boys/',\n",
       " u'https://www.bpal.org/forum/181-coraline/',\n",
       " u'https://www.bpal.org/forum/98-good-omens/',\n",
       " u'https://www.bpal.org/forum/133-the-graveyard-book/',\n",
       " u'https://www.bpal.org/forum/154-neverwhere/',\n",
       " u'https://www.bpal.org/forum/99-stardust/',\n",
       " u'https://www.bpal.org/forum/199-clive-barker/',\n",
       " u'https://www.bpal.org/forum/196-the-dark-crystal/',\n",
       " u'https://www.bpal.org/forum/182-paranorman/',\n",
       " u'https://www.bpal.org/forum/177-labyrinth/',\n",
       " u'https://www.bpal.org/forum/178-fraggle-rock/',\n",
       " u'https://www.bpal.org/forum/159-the-last-unicorn/',\n",
       " u'https://www.bpal.org/forum/180-pandora/',\n",
       " u'https://www.bpal.org/forum/147-gris-grimly/',\n",
       " u'https://www.bpal.org/forum/146-hellboy/',\n",
       " u'https://www.bpal.org/forum/148-hero-initiative/',\n",
       " u'https://www.bpal.org/forum/155-witchblade-the-magdalena/',\n",
       " u'https://www.bpal.org/forum/166-dawn/',\n",
       " u'https://www.bpal.org/forum/175-grendel/',\n",
       " u'https://www.bpal.org/forum/176-lady-death/',\n",
       " u'https://www.bpal.org/forum/201-pretty-deadly/',\n",
       " u'https://www.bpal.org/forum/45-discontinued-scents/',\n",
       " u'https://www.bpal.org/forum/157-atomic-luau-lounge/',\n",
       " u'https://www.bpal.org/forum/21-celestials/',\n",
       " u'https://www.bpal.org/forum/59-sephiroth/',\n",
       " u'https://www.bpal.org/forum/24-single-notes/',\n",
       " u'https://www.bpal.org/forum/23-tarot-oils/',\n",
       " u'https://www.bpal.org/forum/29-unreleased-scents/',\n",
       " u'https://www.bpal.org/forum/43-twilight-alchemy-lab/',\n",
       " u'https://www.bpal.org/forum/88-the-chakras/',\n",
       " u'https://www.bpal.org/forum/80-love-lust-and-beauty/',\n",
       " u'https://www.bpal.org/forum/81-joy-and-inspiration/',\n",
       " u'https://www.bpal.org/forum/82-crossing-binding-and-controlling/',\n",
       " u'https://www.bpal.org/forum/83-prosperity-success-and-good-fortune/',\n",
       " u'https://www.bpal.org/forum/84-purification-protection-and-uncrossing/',\n",
       " u'https://www.bpal.org/forum/85-utility-blends/',\n",
       " u'https://www.bpal.org/forum/102-planetary-magick/',\n",
       " u'https://www.bpal.org/forum/86-temple-blends-amp-ceremonial-oils/',\n",
       " u'https://www.bpal.org/forum/87-rites-of-passage/',\n",
       " u'https://www.bpal.org/forum/209-conjure-bags/',\n",
       " u'https://www.bpal.org/forum/70-black-phoenix-trading-post/',\n",
       " u'https://www.bpal.org/forum/94-the-kitchen-sink/',\n",
       " u'https://www.bpal.org/forum/183-habiliment/',\n",
       " u'https://www.bpal.org/forum/187-lavaliere/',\n",
       " u'https://www.bpal.org/forum/184-atmosphere/',\n",
       " u'https://www.bpal.org/forum/188-illumination/',\n",
       " u'https://www.bpal.org/forum/186-massage/',\n",
       " u'https://www.bpal.org/forum/185-thermae/',\n",
       " u'https://www.bpal.org/forum/190-bubble/',\n",
       " u'https://www.bpal.org/forum/191-suds/',\n",
       " u'https://www.bpal.org/forum/189-nails/',\n",
       " u'https://www.bpal.org/forum/193-hair/',\n",
       " u'https://www.bpal.org/forum/192-edibles/',\n",
       " u'https://www.bpal.org/forum/142-event-exclusive-oils/',\n",
       " u'https://www.bpal.org/forum/100-retail-exclusive-oils/',\n",
       " u'https://www.bpal.org/forum/202-only-lovers-left-alive/',\n",
       " u'https://www.bpal.org/forum/203-kabuki/',\n",
       " u'https://www.bpal.org/forum/204-maze-of-games/',\n",
       " u'https://www.bpal.org/forum/208-crimson-peak/']"
      ]
     },
     "execution_count": 15,
     "metadata": {},
     "output_type": "execute_result"
    }
   ],
   "source": [
    "list_add"
   ]
  },
  {
   "cell_type": "code",
   "execution_count": 16,
   "metadata": {},
   "outputs": [],
   "source": [
    "list_nex = copy.deepcopy(list_add)\n",
    "list_rev = []\n",
    "\n",
    "for tmp in list_nex:\n",
    "    req = urllib2.Request(tmp,headers=hdr)\n",
    "    page = urllib2.urlopen(req)\n",
    "    soup = BeautifulSoup(page)\n",
    "    \n",
    "    for link in soup.findAll('a',attrs={'href':re.compile('^https://www.bpal.org/')}):\n",
    "        tlink = link.get('href')\n",
    "        if tlink.startswith('https://www.bpal.org/forum/') and 'sortby' not in tlink and tlink not in list_nex:\n",
    "            if not tlink.startswith('https://www.bpal.org/forum/47-') and not tlink.startswith('https://www.bpal.org/forum/3-') and not tlink.endswith('.xml/'):\n",
    "                list_nex.append(tlink)\n",
    "                \n",
    "        elif tlink.startswith('https://www.bpal.org/topic/') and tlink not in list_rev:\n",
    "            if not tlink.endswith('Comment') and '/?page=' not in tlink:\n",
    "                list_rev.append(tlink)\n"
   ]
  },
  {
   "cell_type": "code",
   "execution_count": 17,
   "metadata": {},
   "outputs": [
    {
     "data": {
      "text/plain": [
       "6604"
      ]
     },
     "execution_count": 17,
     "metadata": {},
     "output_type": "execute_result"
    }
   ],
   "source": [
    "len(list_rev)"
   ]
  },
  {
   "cell_type": "code",
   "execution_count": 33,
   "metadata": {},
   "outputs": [],
   "source": [
    "def getScentInfo(scent_url):\n",
    "    hdr = {'User-Agent': 'Mozilla/5.0'}\n",
    "    req = urllib2.Request(scent_url,headers=hdr)\n",
    "    page = urllib2.urlopen(req)\n",
    "    soup = BeautifulSoup(page)\n",
    "    \n",
    "    ret_title = soup.find('meta',attrs={'property':'og:title'})['content']\n",
    "    tmp_array = re.findall(r'.+? -',soup.title.text)\n",
    "    ret_colle = tmp_array[1][1:-2]\n",
    "    ret_tags = soup.find('meta',attrs={'name':'keywords'})['content']\n",
    "    try:\n",
    "        tmp_str = soup.select('div[style*=\"background-color:transparent\"]')[0].find('strong').text\n",
    "    except AttributeError:\n",
    "        tmp_str = soup.select('div[style*=\"background-color:transparent\"]')[0].text\n",
    "    try:\n",
    "        ret_descr = re.findall(r':.+',tmp_str)[0][2:]\n",
    "    except IndexError:\n",
    "        ret_descr = tmp_str\n",
    "    \n",
    "    return ret_title, ret_colle, ret_tags, ret_descr "
   ]
  },
  {
   "cell_type": "code",
   "execution_count": 36,
   "metadata": {},
   "outputs": [
    {
     "data": {
      "text/plain": [
       "(u'Iridescent Pastel Basket Grass',\n",
       " u'Limited Editions',\n",
       " u'Easter 2016 Single Note',\n",
       " u'Plasticky pinks, yellows, lime greens, and baby blues.')"
      ]
     },
     "execution_count": 36,
     "metadata": {},
     "output_type": "execute_result"
    }
   ],
   "source": [
    "getScentInfo(list_rev[-1])"
   ]
  },
  {
   "cell_type": "code",
   "execution_count": null,
   "metadata": {},
   "outputs": [],
   "source": []
  }
 ],
 "metadata": {
  "kernelspec": {
   "display_name": "Python 2",
   "language": "python",
   "name": "python2"
  },
  "language_info": {
   "codemirror_mode": {
    "name": "ipython",
    "version": 2
   },
   "file_extension": ".py",
   "mimetype": "text/x-python",
   "name": "python",
   "nbconvert_exporter": "python",
   "pygments_lexer": "ipython2",
   "version": "2.7.15"
  }
 },
 "nbformat": 4,
 "nbformat_minor": 2
}
